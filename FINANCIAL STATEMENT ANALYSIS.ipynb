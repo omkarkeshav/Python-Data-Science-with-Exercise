{
 "cells": [
  {
   "cell_type": "markdown",
   "id": "0928abf4",
   "metadata": {},
   "source": [
    "# FINANCIAL STATEMENT ANALYSIS"
   ]
  },
  {
   "cell_type": "code",
   "execution_count": null,
   "id": "3d53538e",
   "metadata": {},
   "outputs": [],
   "source": [
    "# two vectors of data monthly revenue and monthly expenses for the financial year\n",
    "# task is to calculate the following financail metrics\n",
    "\n",
    "# -profit for each month\n",
    "# -profit after tax for each month (the tax rate is 30%)\n",
    "# -profit margin for each month -eqals to profit after tax divided by revenue\n",
    "# -good months - where the profit after tax was greater than the mean for the year\n",
    "# -bad months - where the profit after tax was less than the mean for the year\n",
    "# -the best month - where the profit after tax was max for the year\n",
    "# -the worst month - where the profit after tax was min for the year"
   ]
  },
  {
   "cell_type": "code",
   "execution_count": 1,
   "id": "38277433",
   "metadata": {},
   "outputs": [
    {
     "data": {
      "application/javascript": [
       "\n",
       "            setTimeout(function() {\n",
       "                var nbb_cell_id = 1;\n",
       "                var nbb_unformatted_code = \"%load_ext nb_black\";\n",
       "                var nbb_formatted_code = \"%load_ext nb_black\";\n",
       "                var nbb_cells = Jupyter.notebook.get_cells();\n",
       "                for (var i = 0; i < nbb_cells.length; ++i) {\n",
       "                    if (nbb_cells[i].input_prompt_number == nbb_cell_id) {\n",
       "                        if (nbb_cells[i].get_text() == nbb_unformatted_code) {\n",
       "                             nbb_cells[i].set_text(nbb_formatted_code);\n",
       "                        }\n",
       "                        break;\n",
       "                    }\n",
       "                }\n",
       "            }, 500);\n",
       "            "
      ],
      "text/plain": [
       "<IPython.core.display.Javascript object>"
      ]
     },
     "metadata": {},
     "output_type": "display_data"
    }
   ],
   "source": [
    "%load_ext nb_black"
   ]
  },
  {
   "cell_type": "code",
   "execution_count": 2,
   "id": "182e4269",
   "metadata": {},
   "outputs": [
    {
     "data": {
      "application/javascript": [
       "\n",
       "            setTimeout(function() {\n",
       "                var nbb_cell_id = 2;\n",
       "                var nbb_unformatted_code = \"#Data \\nrevenue = [14574.49, 7606.46, 8611.41, 9175.41, 8058.65, 8105.44, 11496.28, 9766.09, 10305.32, 14379.96, 10713.97, 15433.50]\\nexpenses = [12051.82, 5695.07, 12319.20, 12089.72, 8658.57, 840.20, 3285.73, 5821.12, 6976.93, 16618.61, 10054.37, 3803.96]\";\n",
       "                var nbb_formatted_code = \"# Data\\nrevenue = [\\n    14574.49,\\n    7606.46,\\n    8611.41,\\n    9175.41,\\n    8058.65,\\n    8105.44,\\n    11496.28,\\n    9766.09,\\n    10305.32,\\n    14379.96,\\n    10713.97,\\n    15433.50,\\n]\\nexpenses = [\\n    12051.82,\\n    5695.07,\\n    12319.20,\\n    12089.72,\\n    8658.57,\\n    840.20,\\n    3285.73,\\n    5821.12,\\n    6976.93,\\n    16618.61,\\n    10054.37,\\n    3803.96,\\n]\";\n",
       "                var nbb_cells = Jupyter.notebook.get_cells();\n",
       "                for (var i = 0; i < nbb_cells.length; ++i) {\n",
       "                    if (nbb_cells[i].input_prompt_number == nbb_cell_id) {\n",
       "                        if (nbb_cells[i].get_text() == nbb_unformatted_code) {\n",
       "                             nbb_cells[i].set_text(nbb_formatted_code);\n",
       "                        }\n",
       "                        break;\n",
       "                    }\n",
       "                }\n",
       "            }, 500);\n",
       "            "
      ],
      "text/plain": [
       "<IPython.core.display.Javascript object>"
      ]
     },
     "metadata": {},
     "output_type": "display_data"
    }
   ],
   "source": [
    "# Data\n",
    "revenue = [\n",
    "    14574.49,\n",
    "    7606.46,\n",
    "    8611.41,\n",
    "    9175.41,\n",
    "    8058.65,\n",
    "    8105.44,\n",
    "    11496.28,\n",
    "    9766.09,\n",
    "    10305.32,\n",
    "    14379.96,\n",
    "    10713.97,\n",
    "    15433.50,\n",
    "]\n",
    "expenses = [\n",
    "    12051.82,\n",
    "    5695.07,\n",
    "    12319.20,\n",
    "    12089.72,\n",
    "    8658.57,\n",
    "    840.20,\n",
    "    3285.73,\n",
    "    5821.12,\n",
    "    6976.93,\n",
    "    16618.61,\n",
    "    10054.37,\n",
    "    3803.96,\n",
    "]"
   ]
  },
  {
   "cell_type": "code",
   "execution_count": 3,
   "id": "2d3acae9",
   "metadata": {},
   "outputs": [
    {
     "data": {
      "text/plain": [
       "[2522.67,\n",
       " 1911.3900000000003,\n",
       " -3707.790000000001,\n",
       " -2914.3099999999995,\n",
       " -599.9200000000001,\n",
       " 7265.24,\n",
       " 8210.550000000001,\n",
       " 3944.9700000000003,\n",
       " 3328.3899999999994,\n",
       " -2238.6500000000015,\n",
       " 659.5999999999985,\n",
       " 11629.54]"
      ]
     },
     "execution_count": 3,
     "metadata": {},
     "output_type": "execute_result"
    },
    {
     "data": {
      "application/javascript": [
       "\n",
       "            setTimeout(function() {\n",
       "                var nbb_cell_id = 3;\n",
       "                var nbb_unformatted_code = \"#Solution\\n# Profit As The Differences Between Revenue And Expenses\\n\\nprofit = list([])\\n\\nfor i in range(0, len(revenue)):\\n    profit.append( revenue[i] - expenses[i])\\n\\nprofit\";\n",
       "                var nbb_formatted_code = \"# Solution\\n# Profit As The Differences Between Revenue And Expenses\\n\\nprofit = list([])\\n\\nfor i in range(0, len(revenue)):\\n    profit.append(revenue[i] - expenses[i])\\n\\nprofit\";\n",
       "                var nbb_cells = Jupyter.notebook.get_cells();\n",
       "                for (var i = 0; i < nbb_cells.length; ++i) {\n",
       "                    if (nbb_cells[i].input_prompt_number == nbb_cell_id) {\n",
       "                        if (nbb_cells[i].get_text() == nbb_unformatted_code) {\n",
       "                             nbb_cells[i].set_text(nbb_formatted_code);\n",
       "                        }\n",
       "                        break;\n",
       "                    }\n",
       "                }\n",
       "            }, 500);\n",
       "            "
      ],
      "text/plain": [
       "<IPython.core.display.Javascript object>"
      ]
     },
     "metadata": {},
     "output_type": "display_data"
    }
   ],
   "source": [
    "# Solution\n",
    "# Profit As The Differences Between Revenue And Expenses\n",
    "\n",
    "profit = list([])\n",
    "\n",
    "for i in range(0, len(revenue)):\n",
    "    profit.append(revenue[i] - expenses[i])\n",
    "\n",
    "profit"
   ]
  },
  {
   "cell_type": "code",
   "execution_count": 5,
   "id": "8cca58ff",
   "metadata": {},
   "outputs": [
    {
     "data": {
      "text/plain": [
       "[756.8,\n",
       " 573.42,\n",
       " -1112.34,\n",
       " -874.29,\n",
       " -179.98,\n",
       " 2179.57,\n",
       " 2463.17,\n",
       " 1183.49,\n",
       " 998.52,\n",
       " -671.6,\n",
       " 197.88,\n",
       " 3488.86]"
      ]
     },
     "execution_count": 5,
     "metadata": {},
     "output_type": "execute_result"
    },
    {
     "data": {
      "application/javascript": [
       "\n",
       "            setTimeout(function() {\n",
       "                var nbb_cell_id = 5;\n",
       "                var nbb_unformatted_code = \"# Tax As 30% Of Profit And Round To 2 Decimal Points\\n\\ntax = [round(i * 0.3, 2) for i in profit]\\ntax\";\n",
       "                var nbb_formatted_code = \"# Tax As 30% Of Profit And Round To 2 Decimal Points\\n\\ntax = [round(i * 0.3, 2) for i in profit]\\ntax\";\n",
       "                var nbb_cells = Jupyter.notebook.get_cells();\n",
       "                for (var i = 0; i < nbb_cells.length; ++i) {\n",
       "                    if (nbb_cells[i].input_prompt_number == nbb_cell_id) {\n",
       "                        if (nbb_cells[i].get_text() == nbb_unformatted_code) {\n",
       "                             nbb_cells[i].set_text(nbb_formatted_code);\n",
       "                        }\n",
       "                        break;\n",
       "                    }\n",
       "                }\n",
       "            }, 500);\n",
       "            "
      ],
      "text/plain": [
       "<IPython.core.display.Javascript object>"
      ]
     },
     "metadata": {},
     "output_type": "display_data"
    }
   ],
   "source": [
    "# Tax As 30% Of Profit And Round To 2 Decimal Points\n",
    "\n",
    "tax = [round(i * 0.3, 2) for i in profit]\n",
    "tax"
   ]
  },
  {
   "cell_type": "code",
   "execution_count": 6,
   "id": "15502bfd",
   "metadata": {},
   "outputs": [
    {
     "data": {
      "text/plain": [
       "[1765.8700000000001,\n",
       " 1337.9700000000003,\n",
       " -2595.4500000000007,\n",
       " -2040.0199999999995,\n",
       " -419.94000000000005,\n",
       " 5085.67,\n",
       " 5747.380000000001,\n",
       " 2761.4800000000005,\n",
       " 2329.8699999999994,\n",
       " -1567.0500000000015,\n",
       " 461.71999999999855,\n",
       " 8140.68]"
      ]
     },
     "execution_count": 6,
     "metadata": {},
     "output_type": "execute_result"
    },
    {
     "data": {
      "application/javascript": [
       "\n",
       "            setTimeout(function() {\n",
       "                var nbb_cell_id = 6;\n",
       "                var nbb_unformatted_code = \"# Profit Remaining After Tax Is Deducted\\n\\nprofit_after_tax = list([])\\n\\nfor i in range(0, len(profit)):\\n    profit_after_tax.append(profit[i] - tax[i])\\n\\nprofit_after_tax\";\n",
       "                var nbb_formatted_code = \"# Profit Remaining After Tax Is Deducted\\n\\nprofit_after_tax = list([])\\n\\nfor i in range(0, len(profit)):\\n    profit_after_tax.append(profit[i] - tax[i])\\n\\nprofit_after_tax\";\n",
       "                var nbb_cells = Jupyter.notebook.get_cells();\n",
       "                for (var i = 0; i < nbb_cells.length; ++i) {\n",
       "                    if (nbb_cells[i].input_prompt_number == nbb_cell_id) {\n",
       "                        if (nbb_cells[i].get_text() == nbb_unformatted_code) {\n",
       "                             nbb_cells[i].set_text(nbb_formatted_code);\n",
       "                        }\n",
       "                        break;\n",
       "                    }\n",
       "                }\n",
       "            }, 500);\n",
       "            "
      ],
      "text/plain": [
       "<IPython.core.display.Javascript object>"
      ]
     },
     "metadata": {},
     "output_type": "display_data"
    }
   ],
   "source": [
    "# Profit Remaining After Tax Is Deducted\n",
    "\n",
    "profit_after_tax = list([])\n",
    "\n",
    "for i in range(0, len(profit)):\n",
    "    profit_after_tax.append(profit[i] - tax[i])\n",
    "\n",
    "profit_after_tax"
   ]
  },
  {
   "cell_type": "code",
   "execution_count": 7,
   "id": "f4967a83",
   "metadata": {},
   "outputs": [
    {
     "data": {
      "text/plain": [
       "[12.12,\n",
       " 17.59,\n",
       " -30.14,\n",
       " -22.23,\n",
       " -5.21,\n",
       " 62.74,\n",
       " 49.99,\n",
       " 28.28,\n",
       " 22.61,\n",
       " -10.9,\n",
       " 4.31,\n",
       " 52.75]"
      ]
     },
     "execution_count": 7,
     "metadata": {},
     "output_type": "execute_result"
    },
    {
     "data": {
      "application/javascript": [
       "\n",
       "            setTimeout(function() {\n",
       "                var nbb_cell_id = 7;\n",
       "                var nbb_unformatted_code = \"# The Profit Margin As Profit After Tax Over Revenue\\n#Round To 2 Decimal Points, Then Multiply By 100 To Get %\\n\\nprofit_margin = list([])\\n\\nfor i in range(0, len(profit)):\\n    profit_margin.append(profit_after_tax[i] / revenue[i])\\n\\nprofit_margin = [round((i * 100), 2) for i in profit_margin]\\nprofit_margin\";\n",
       "                var nbb_formatted_code = \"# The Profit Margin As Profit After Tax Over Revenue\\n# Round To 2 Decimal Points, Then Multiply By 100 To Get %\\n\\nprofit_margin = list([])\\n\\nfor i in range(0, len(profit)):\\n    profit_margin.append(profit_after_tax[i] / revenue[i])\\n\\nprofit_margin = [round((i * 100), 2) for i in profit_margin]\\nprofit_margin\";\n",
       "                var nbb_cells = Jupyter.notebook.get_cells();\n",
       "                for (var i = 0; i < nbb_cells.length; ++i) {\n",
       "                    if (nbb_cells[i].input_prompt_number == nbb_cell_id) {\n",
       "                        if (nbb_cells[i].get_text() == nbb_unformatted_code) {\n",
       "                             nbb_cells[i].set_text(nbb_formatted_code);\n",
       "                        }\n",
       "                        break;\n",
       "                    }\n",
       "                }\n",
       "            }, 500);\n",
       "            "
      ],
      "text/plain": [
       "<IPython.core.display.Javascript object>"
      ]
     },
     "metadata": {},
     "output_type": "display_data"
    }
   ],
   "source": [
    "# The Profit Margin As Profit After Tax Over Revenue\n",
    "# Round To 2 Decimal Points, Then Multiply By 100 To Get %\n",
    "\n",
    "profit_margin = list([])\n",
    "\n",
    "for i in range(0, len(profit)):\n",
    "    profit_margin.append(profit_after_tax[i] / revenue[i])\n",
    "\n",
    "profit_margin = [round((i * 100), 2) for i in profit_margin]\n",
    "profit_margin"
   ]
  },
  {
   "cell_type": "code",
   "execution_count": 9,
   "id": "045cbb4f",
   "metadata": {},
   "outputs": [
    {
     "data": {
      "text/plain": [
       "1750.6816666666666"
      ]
     },
     "execution_count": 9,
     "metadata": {},
     "output_type": "execute_result"
    },
    {
     "data": {
      "application/javascript": [
       "\n",
       "            setTimeout(function() {\n",
       "                var nbb_cell_id = 9;\n",
       "                var nbb_unformatted_code = \"# The Mean Profit After Tax For The 12 Months\\n\\nmean_pat = sum(profit_after_tax) / len(profit_after_tax)\\nmean_pat\";\n",
       "                var nbb_formatted_code = \"# The Mean Profit After Tax For The 12 Months\\n\\nmean_pat = sum(profit_after_tax) / len(profit_after_tax)\\nmean_pat\";\n",
       "                var nbb_cells = Jupyter.notebook.get_cells();\n",
       "                for (var i = 0; i < nbb_cells.length; ++i) {\n",
       "                    if (nbb_cells[i].input_prompt_number == nbb_cell_id) {\n",
       "                        if (nbb_cells[i].get_text() == nbb_unformatted_code) {\n",
       "                             nbb_cells[i].set_text(nbb_formatted_code);\n",
       "                        }\n",
       "                        break;\n",
       "                    }\n",
       "                }\n",
       "            }, 500);\n",
       "            "
      ],
      "text/plain": [
       "<IPython.core.display.Javascript object>"
      ]
     },
     "metadata": {},
     "output_type": "display_data"
    }
   ],
   "source": [
    "# The Mean Profit After Tax For The 12 Months\n",
    "\n",
    "mean_pat = sum(profit_after_tax) / len(profit_after_tax)\n",
    "mean_pat"
   ]
  },
  {
   "cell_type": "code",
   "execution_count": 10,
   "id": "a664792a",
   "metadata": {},
   "outputs": [
    {
     "data": {
      "text/plain": [
       "[True, False, False, False, False, True, True, True, True, False, False, True]"
      ]
     },
     "execution_count": 10,
     "metadata": {},
     "output_type": "execute_result"
    },
    {
     "data": {
      "application/javascript": [
       "\n",
       "            setTimeout(function() {\n",
       "                var nbb_cell_id = 10;\n",
       "                var nbb_unformatted_code = \"# The Months With Above-Mean Profit After Tax\\n\\ngood_months = list([])\\nfor i in range(0, len(profit)):\\n    good_months.append(profit_after_tax[i] > mean_pat)\\ngood_months\";\n",
       "                var nbb_formatted_code = \"# The Months With Above-Mean Profit After Tax\\n\\ngood_months = list([])\\nfor i in range(0, len(profit)):\\n    good_months.append(profit_after_tax[i] > mean_pat)\\ngood_months\";\n",
       "                var nbb_cells = Jupyter.notebook.get_cells();\n",
       "                for (var i = 0; i < nbb_cells.length; ++i) {\n",
       "                    if (nbb_cells[i].input_prompt_number == nbb_cell_id) {\n",
       "                        if (nbb_cells[i].get_text() == nbb_unformatted_code) {\n",
       "                             nbb_cells[i].set_text(nbb_formatted_code);\n",
       "                        }\n",
       "                        break;\n",
       "                    }\n",
       "                }\n",
       "            }, 500);\n",
       "            "
      ],
      "text/plain": [
       "<IPython.core.display.Javascript object>"
      ]
     },
     "metadata": {},
     "output_type": "display_data"
    }
   ],
   "source": [
    "# The Months With Above-Mean Profit After Tax\n",
    "\n",
    "good_months = list([])\n",
    "for i in range(0, len(profit)):\n",
    "    good_months.append(profit_after_tax[i] > mean_pat)\n",
    "good_months"
   ]
  },
  {
   "cell_type": "code",
   "execution_count": 11,
   "id": "d2e8d3a5",
   "metadata": {},
   "outputs": [
    {
     "data": {
      "text/plain": [
       "[False, True, True, True, True, False, False, False, False, True, True, False]"
      ]
     },
     "execution_count": 11,
     "metadata": {},
     "output_type": "execute_result"
    },
    {
     "data": {
      "application/javascript": [
       "\n",
       "            setTimeout(function() {\n",
       "                var nbb_cell_id = 11;\n",
       "                var nbb_unformatted_code = \"# Bad Months Are The Opposite Of Good Months\\n\\nbad_months = list([])\\nfor i in range(0, len(profit)):\\n    bad_months.append(profit_after_tax[i] < mean_pat)\\nbad_months\";\n",
       "                var nbb_formatted_code = \"# Bad Months Are The Opposite Of Good Months\\n\\nbad_months = list([])\\nfor i in range(0, len(profit)):\\n    bad_months.append(profit_after_tax[i] < mean_pat)\\nbad_months\";\n",
       "                var nbb_cells = Jupyter.notebook.get_cells();\n",
       "                for (var i = 0; i < nbb_cells.length; ++i) {\n",
       "                    if (nbb_cells[i].input_prompt_number == nbb_cell_id) {\n",
       "                        if (nbb_cells[i].get_text() == nbb_unformatted_code) {\n",
       "                             nbb_cells[i].set_text(nbb_formatted_code);\n",
       "                        }\n",
       "                        break;\n",
       "                    }\n",
       "                }\n",
       "            }, 500);\n",
       "            "
      ],
      "text/plain": [
       "<IPython.core.display.Javascript object>"
      ]
     },
     "metadata": {},
     "output_type": "display_data"
    }
   ],
   "source": [
    "# Bad Months Are The Opposite Of Good Months\n",
    "\n",
    "bad_months = list([])\n",
    "for i in range(0, len(profit)):\n",
    "    bad_months.append(profit_after_tax[i] < mean_pat)\n",
    "bad_months"
   ]
  },
  {
   "cell_type": "code",
   "execution_count": 12,
   "id": "5eb9d5d3",
   "metadata": {},
   "outputs": [
    {
     "data": {
      "text/plain": [
       "[False,\n",
       " False,\n",
       " False,\n",
       " False,\n",
       " False,\n",
       " False,\n",
       " False,\n",
       " False,\n",
       " False,\n",
       " False,\n",
       " False,\n",
       " True]"
      ]
     },
     "execution_count": 12,
     "metadata": {},
     "output_type": "execute_result"
    },
    {
     "data": {
      "application/javascript": [
       "\n",
       "            setTimeout(function() {\n",
       "                var nbb_cell_id = 12;\n",
       "                var nbb_unformatted_code = \"# Best Month Is Where Profit After Tax Was Equal To The Maximum\\n\\nbest_month = list([])\\nfor i in range(0, len(profit)):\\n    best_month.append(profit_after_tax[i] == max(profit_after_tax))\\nbest_month\";\n",
       "                var nbb_formatted_code = \"# Best Month Is Where Profit After Tax Was Equal To The Maximum\\n\\nbest_month = list([])\\nfor i in range(0, len(profit)):\\n    best_month.append(profit_after_tax[i] == max(profit_after_tax))\\nbest_month\";\n",
       "                var nbb_cells = Jupyter.notebook.get_cells();\n",
       "                for (var i = 0; i < nbb_cells.length; ++i) {\n",
       "                    if (nbb_cells[i].input_prompt_number == nbb_cell_id) {\n",
       "                        if (nbb_cells[i].get_text() == nbb_unformatted_code) {\n",
       "                             nbb_cells[i].set_text(nbb_formatted_code);\n",
       "                        }\n",
       "                        break;\n",
       "                    }\n",
       "                }\n",
       "            }, 500);\n",
       "            "
      ],
      "text/plain": [
       "<IPython.core.display.Javascript object>"
      ]
     },
     "metadata": {},
     "output_type": "display_data"
    }
   ],
   "source": [
    "# Best Month Is Where Profit After Tax Was Equal To The Maximum\n",
    "\n",
    "best_month = list([])\n",
    "for i in range(0, len(profit)):\n",
    "    best_month.append(profit_after_tax[i] == max(profit_after_tax))\n",
    "best_month"
   ]
  },
  {
   "cell_type": "code",
   "execution_count": 13,
   "id": "ff59aa3c",
   "metadata": {},
   "outputs": [
    {
     "data": {
      "text/plain": [
       "[False,\n",
       " False,\n",
       " True,\n",
       " False,\n",
       " False,\n",
       " False,\n",
       " False,\n",
       " False,\n",
       " False,\n",
       " False,\n",
       " False,\n",
       " False]"
      ]
     },
     "execution_count": 13,
     "metadata": {},
     "output_type": "execute_result"
    },
    {
     "data": {
      "application/javascript": [
       "\n",
       "            setTimeout(function() {\n",
       "                var nbb_cell_id = 13;\n",
       "                var nbb_unformatted_code = \"# Worst Month Is Where Profit After Tax Was Equal To The Minimum\\n\\nworst_month = list([])\\nfor i in range(0, len(profit)):\\n    worst_month.append(profit_after_tax[i] == min(profit_after_tax))\\nworst_month\";\n",
       "                var nbb_formatted_code = \"# Worst Month Is Where Profit After Tax Was Equal To The Minimum\\n\\nworst_month = list([])\\nfor i in range(0, len(profit)):\\n    worst_month.append(profit_after_tax[i] == min(profit_after_tax))\\nworst_month\";\n",
       "                var nbb_cells = Jupyter.notebook.get_cells();\n",
       "                for (var i = 0; i < nbb_cells.length; ++i) {\n",
       "                    if (nbb_cells[i].input_prompt_number == nbb_cell_id) {\n",
       "                        if (nbb_cells[i].get_text() == nbb_unformatted_code) {\n",
       "                             nbb_cells[i].set_text(nbb_formatted_code);\n",
       "                        }\n",
       "                        break;\n",
       "                    }\n",
       "                }\n",
       "            }, 500);\n",
       "            "
      ],
      "text/plain": [
       "<IPython.core.display.Javascript object>"
      ]
     },
     "metadata": {},
     "output_type": "display_data"
    }
   ],
   "source": [
    "# Worst Month Is Where Profit After Tax Was Equal To The Minimum\n",
    "\n",
    "worst_month = list([])\n",
    "for i in range(0, len(profit)):\n",
    "    worst_month.append(profit_after_tax[i] == min(profit_after_tax))\n",
    "worst_month"
   ]
  },
  {
   "cell_type": "code",
   "execution_count": 14,
   "id": "e02e5b44",
   "metadata": {},
   "outputs": [
    {
     "data": {
      "application/javascript": [
       "\n",
       "            setTimeout(function() {\n",
       "                var nbb_cell_id = 14;\n",
       "                var nbb_unformatted_code = \"#Convert All Calculations To Units Of One Thousand Dollars\\n\\nrevenue_1000 = [round(i / 1000, 2) for i in revenue]\\nexpenses_1000 = [round(i / 1000, 2) for i in expenses]\\nprofit_1000 = [round(i / 1000, 2) for i in profit]\\nprofit_after_tax_1000 = [round(i / 1000, 2) for i in profit_after_tax]\\n\\nrevenue_1000 = [int(i) for i in revenue_1000]\\nexpenses_1000 = [int(i) for i in expenses_1000]\\nprofit_1000 = [int(i) for i in profit_1000]\\nprofit_after_tax_1000 = [int(i) for i in profit_after_tax_1000]\";\n",
       "                var nbb_formatted_code = \"# Convert All Calculations To Units Of One Thousand Dollars\\n\\nrevenue_1000 = [round(i / 1000, 2) for i in revenue]\\nexpenses_1000 = [round(i / 1000, 2) for i in expenses]\\nprofit_1000 = [round(i / 1000, 2) for i in profit]\\nprofit_after_tax_1000 = [round(i / 1000, 2) for i in profit_after_tax]\\n\\nrevenue_1000 = [int(i) for i in revenue_1000]\\nexpenses_1000 = [int(i) for i in expenses_1000]\\nprofit_1000 = [int(i) for i in profit_1000]\\nprofit_after_tax_1000 = [int(i) for i in profit_after_tax_1000]\";\n",
       "                var nbb_cells = Jupyter.notebook.get_cells();\n",
       "                for (var i = 0; i < nbb_cells.length; ++i) {\n",
       "                    if (nbb_cells[i].input_prompt_number == nbb_cell_id) {\n",
       "                        if (nbb_cells[i].get_text() == nbb_unformatted_code) {\n",
       "                             nbb_cells[i].set_text(nbb_formatted_code);\n",
       "                        }\n",
       "                        break;\n",
       "                    }\n",
       "                }\n",
       "            }, 500);\n",
       "            "
      ],
      "text/plain": [
       "<IPython.core.display.Javascript object>"
      ]
     },
     "metadata": {},
     "output_type": "display_data"
    }
   ],
   "source": [
    "# Convert All Calculations To Units Of One Thousand Dollars\n",
    "\n",
    "revenue_1000 = [round(i / 1000, 2) for i in revenue]\n",
    "expenses_1000 = [round(i / 1000, 2) for i in expenses]\n",
    "profit_1000 = [round(i / 1000, 2) for i in profit]\n",
    "profit_after_tax_1000 = [round(i / 1000, 2) for i in profit_after_tax]\n",
    "\n",
    "revenue_1000 = [int(i) for i in revenue_1000]\n",
    "expenses_1000 = [int(i) for i in expenses_1000]\n",
    "profit_1000 = [int(i) for i in profit_1000]\n",
    "profit_after_tax_1000 = [int(i) for i in profit_after_tax_1000]"
   ]
  },
  {
   "cell_type": "code",
   "execution_count": 15,
   "id": "be339324",
   "metadata": {},
   "outputs": [
    {
     "name": "stdout",
     "output_type": "stream",
     "text": [
      "Revenue :\n",
      "[14, 7, 8, 9, 8, 8, 11, 9, 10, 14, 10, 15]\n",
      "Expenses :\n",
      "[12, 5, 12, 12, 8, 0, 3, 5, 6, 16, 10, 3]\n",
      "Profit :\n",
      "[2, 1, -3, -2, 0, 7, 8, 3, 3, -2, 0, 11]\n",
      "Profit after tax :\n",
      "[1, 1, -2, -2, 0, 5, 5, 2, 2, -1, 0, 8]\n",
      "Profit margin :\n",
      "[12.12, 17.59, -30.14, -22.23, -5.21, 62.74, 49.99, 28.28, 22.61, -10.9, 4.31, 52.75]\n",
      "Good months :\n",
      "[True, False, False, False, False, True, True, True, True, False, False, True]\n",
      "Bad months :\n",
      "[False, True, True, True, True, False, False, False, False, True, True, False]\n",
      "Best month :\n",
      "[False, False, False, False, False, False, False, False, False, False, False, True]\n",
      "Worst month :\n",
      "[False, False, True, False, False, False, False, False, False, False, False, False]\n"
     ]
    },
    {
     "data": {
      "application/javascript": [
       "\n",
       "            setTimeout(function() {\n",
       "                var nbb_cell_id = 15;\n",
       "                var nbb_unformatted_code = \"#Print Results\\nprint (\\\"Revenue :\\\") \\nprint (revenue_1000)\\nprint (\\\"Expenses :\\\") \\nprint (expenses_1000)\\nprint (\\\"Profit :\\\")\\nprint(profit_1000)\\nprint (\\\"Profit after tax :\\\")\\nprint (profit_after_tax_1000)\\nprint (\\\"Profit margin :\\\")\\nprint (profit_margin)\\nprint (\\\"Good months :\\\")\\nprint (good_months)\\nprint (\\\"Bad months :\\\")\\nprint (bad_months)\\nprint (\\\"Best month :\\\")\\nprint (best_month)\\nprint (\\\"Worst month :\\\")\\nprint (worst_month)\";\n",
       "                var nbb_formatted_code = \"# Print Results\\nprint(\\\"Revenue :\\\")\\nprint(revenue_1000)\\nprint(\\\"Expenses :\\\")\\nprint(expenses_1000)\\nprint(\\\"Profit :\\\")\\nprint(profit_1000)\\nprint(\\\"Profit after tax :\\\")\\nprint(profit_after_tax_1000)\\nprint(\\\"Profit margin :\\\")\\nprint(profit_margin)\\nprint(\\\"Good months :\\\")\\nprint(good_months)\\nprint(\\\"Bad months :\\\")\\nprint(bad_months)\\nprint(\\\"Best month :\\\")\\nprint(best_month)\\nprint(\\\"Worst month :\\\")\\nprint(worst_month)\";\n",
       "                var nbb_cells = Jupyter.notebook.get_cells();\n",
       "                for (var i = 0; i < nbb_cells.length; ++i) {\n",
       "                    if (nbb_cells[i].input_prompt_number == nbb_cell_id) {\n",
       "                        if (nbb_cells[i].get_text() == nbb_unformatted_code) {\n",
       "                             nbb_cells[i].set_text(nbb_formatted_code);\n",
       "                        }\n",
       "                        break;\n",
       "                    }\n",
       "                }\n",
       "            }, 500);\n",
       "            "
      ],
      "text/plain": [
       "<IPython.core.display.Javascript object>"
      ]
     },
     "metadata": {},
     "output_type": "display_data"
    }
   ],
   "source": [
    "# Print Results\n",
    "print(\"Revenue :\")\n",
    "print(revenue_1000)\n",
    "print(\"Expenses :\")\n",
    "print(expenses_1000)\n",
    "print(\"Profit :\")\n",
    "print(profit_1000)\n",
    "print(\"Profit after tax :\")\n",
    "print(profit_after_tax_1000)\n",
    "print(\"Profit margin :\")\n",
    "print(profit_margin)\n",
    "print(\"Good months :\")\n",
    "print(good_months)\n",
    "print(\"Bad months :\")\n",
    "print(bad_months)\n",
    "print(\"Best month :\")\n",
    "print(best_month)\n",
    "print(\"Worst month :\")\n",
    "print(worst_month)"
   ]
  },
  {
   "cell_type": "code",
   "execution_count": null,
   "id": "81f65cf4",
   "metadata": {},
   "outputs": [],
   "source": []
  }
 ],
 "metadata": {
  "kernelspec": {
   "display_name": "Python 3",
   "language": "python",
   "name": "python3"
  },
  "language_info": {
   "codemirror_mode": {
    "name": "ipython",
    "version": 3
   },
   "file_extension": ".py",
   "mimetype": "text/x-python",
   "name": "python",
   "nbconvert_exporter": "python",
   "pygments_lexer": "ipython3",
   "version": "3.7.0"
  }
 },
 "nbformat": 4,
 "nbformat_minor": 5
}
